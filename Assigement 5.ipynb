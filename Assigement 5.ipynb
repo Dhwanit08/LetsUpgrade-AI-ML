{
 "cells": [
  {
   "cell_type": "code",
   "execution_count": 14,
   "metadata": {},
   "outputs": [
    {
     "name": "stdout",
     "output_type": "stream",
     "text": [
      "Dhwanit agrawal 0810\n",
      "Dhwanit agrawal 0810\n",
      "['Dhwanit agrawal 0810']\n",
      "1\n",
      "b'Dhwanit agrawal 0810'\n",
      "True\n",
      "False\n",
      "dhwanit agrawal 0810\n",
      "dHWANIT AGRAWAL 0810\n",
      "20\n",
      "False\n",
      "14\n",
      "3\n",
      "['Dhwanit', 'agrawal', '0810']\n",
      "Dhwanit agrawal 0810\n",
      "Dhwanit Agrawal 0810\n",
      "Dhwanitagrawal0810\n"
     ]
    }
   ],
   "source": [
    "a = \"Dhwanit agrawal 0810\"\n",
    "\n",
    "print (a)\n",
    "print (a.capitalize())\n",
    "print(a.splitlines())\n",
    "print(a.count(a))\n",
    "print(a.encode())\n",
    "print(a.isascii())\n",
    "print(a.isupper())\n",
    "print(a.casefold())\n",
    "print(a.swapcase())\n",
    "print(len(a))\n",
    "print(a.isdigit())\n",
    "print(a.find(\"l\",7))\n",
    "print(a.index(\"a\"))\n",
    "print(a.rsplit())\n",
    "print(a.zfill(10))\n",
    "print(a.title())\n",
    "print(a.replace(\" \",\"\"))"
   ]
  },
  {
   "cell_type": "code",
   "execution_count": 2,
   "metadata": {},
   "outputs": [
    {
     "name": "stdout",
     "output_type": "stream",
     "text": [
      "0180 lawarga tinawhD\n"
     ]
    }
   ],
   "source": [
    "print(a[::-1])"
   ]
  },
  {
   "cell_type": "code",
   "execution_count": 3,
   "metadata": {},
   "outputs": [
    {
     "ename": "SyntaxError",
     "evalue": "invalid syntax (<ipython-input-3-dbae04482aa7>, line 14)",
     "output_type": "error",
     "traceback": [
      "\u001b[1;36m  File \u001b[1;32m\"<ipython-input-3-dbae04482aa7>\"\u001b[1;36m, line \u001b[1;32m14\u001b[0m\n\u001b[1;33m    elif ans = if(sorted(s1)== sorted(s2)):\u001b[0m\n\u001b[1;37m             ^\u001b[0m\n\u001b[1;31mSyntaxError\u001b[0m\u001b[1;31m:\u001b[0m invalid syntax\n"
     ]
    }
   ],
   "source": [
    "s1 = \"listen\"\n",
    "s2 = \"silent\"\n",
    "\n",
    "def isPalindrome(s): \n",
    "    return s == s[::-1] \n",
    "  \n",
    "  \n",
    "# Driver code \n",
    "s = \"malayalam\"\n",
    "ans = isPalindrome(s) \n",
    "  \n",
    "if ans: \n",
    "    print(\"It is pailndrome\") \n",
    "elif ans = if(sorted(s1)== sorted(s2)):  \n",
    "    print(\"it is anagram\")\n",
    "else:\n",
    "    print(\"none of the above\")"
   ]
  },
  {
   "cell_type": "code",
   "execution_count": 23,
   "metadata": {},
   "outputs": [
    {
     "name": "stdout",
     "output_type": "stream",
     "text": [
      "dr.darshaningle@ai-mltrainer\n"
     ]
    }
   ],
   "source": [
    "def m():\n",
    "    s = \"Dr.Darshan Ingle@AI-ML Trainer\"\n",
    "\n",
    "b = s.replace(\" \",\"\")\n",
    "    \n",
    "print(b.lower())\n",
    "\n"
   ]
  }
 ],
 "metadata": {
  "kernelspec": {
   "display_name": "Python 3",
   "language": "python",
   "name": "python3"
  },
  "language_info": {
   "codemirror_mode": {
    "name": "ipython",
    "version": 3
   },
   "file_extension": ".py",
   "mimetype": "text/x-python",
   "name": "python",
   "nbconvert_exporter": "python",
   "pygments_lexer": "ipython3",
   "version": "3.7.6"
  }
 },
 "nbformat": 4,
 "nbformat_minor": 4
}
